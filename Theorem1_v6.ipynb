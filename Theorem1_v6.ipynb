{
 "cells": [
  {
   "cell_type": "code",
   "execution_count": 1,
   "id": "24bf8333",
   "metadata": {},
   "outputs": [],
   "source": [
    "import random\n",
    "import bisect\n",
    "import math\n",
    "import csv\n",
    "import os\n",
    "import time\n",
    "import ipaddress\n",
    "import sympy\n",
    "\n",
    "from pympler import asizeof"
   ]
  },
  {
   "cell_type": "code",
   "execution_count": 2,
   "id": "9a85fa73",
   "metadata": {},
   "outputs": [],
   "source": [
    "# Random Hash Function from Universal Hash family\n",
    "# m here is the range of values that can be hashed into\n",
    "class UniversalHash:\n",
    "    def __init__(self, n, m, seed = 114514):\n",
    "        # random.seed(seed) For getting deterministic output for analyzing\n",
    "        self.p = sympy.nextprime(n)\n",
    "        self.a = random.randint(1, self.p-1)\n",
    "        self.b = random.randint(0, self.p-1)\n",
    "        self.m = m\n",
    "        self.hash_table = {} # Collision Counter\n",
    "        self.collisions = 0\n",
    "    \n",
    "    # Collision Counter\n",
    "    def detect_collisions(self, keys):\n",
    "        for key in keys:\n",
    "            hash_value = self.hash(key)\n",
    "            if hash_value in self.hash_table:\n",
    "                if key not in self.hash_table[hash_value]:\n",
    "                    self.hash_table[hash_value].add(key)\n",
    "                    self.collisions += 1\n",
    "            else:\n",
    "                self.hash_table[hash_value] = {key}\n",
    "\n",
    "        return self.collisions\n",
    "    \n",
    "    def reset_collisions():\n",
    "        self.hash_table = {}\n",
    "        self.collisions = 0\n",
    "\n",
    "    def hash(self, x):\n",
    "        return (pow(self.a, x, self.p) + self.b) % self.p % self.m\n"
   ]
  },
  {
   "cell_type": "code",
   "execution_count": 3,
   "id": "7b8cd200",
   "metadata": {},
   "outputs": [],
   "source": [
    "def init(m, n, epsilon, phi, delta):\n",
    "    l = int(6 * math.log2( 6 / delta) / epsilon**2)\n",
    "    hash_function_size = math.ceil(4 * l**2 / delta)\n",
    "    h = UniversalHash(n, hash_function_size)\n",
    "    p = 6*l/m\n",
    "    \n",
    "    T1 = [None] * math.ceil(1/epsilon)\n",
    "    T2 = [None] * math.ceil(1/phi)\n",
    "    \n",
    "    print(\"L: \",l,\"H_size: \",hash_function_size, \"T1_size: \", math.ceil(1/epsilon), \"T2_size: \",math.ceil(1/phi), \"P: \", p)\n",
    "\n",
    "    return l, h, T1, T2, p\n",
    "\n",
    "#@profile\n",
    "def insert(x, m, l, h, T1, T2, phi, p):\n",
    "    if random.random() < 6 * l / m:\n",
    "        \n",
    "        T1, T2 = misra_gries_update(x, h, T1, T2)\n",
    "        \n",
    "        return 1\n",
    "    else:\n",
    "        return 0\n",
    "            \n",
    "#@profile                \n",
    "def misra_gries_update(x, h, T1, T2):\n",
    "    isbreak = False\n",
    "    h_x = h.hash(x)\n",
    "    for i, item in enumerate(T1):\n",
    "        if item and item[0] == h_x:\n",
    "            item[1] += 1\n",
    "            break\n",
    "    else:\n",
    "        for i, item in enumerate(T1):\n",
    "            if item is None:\n",
    "                T1[i] = [h_x, 1]\n",
    "                if i < len(T2):\n",
    "                    T2[i] = x\n",
    "                isbreak = True\n",
    "                break\n",
    "            if item[1] == 0:\n",
    "                item[0] = h_x\n",
    "                item[1] = 1\n",
    "                if i < len(T2):\n",
    "                    T2[i] = x\n",
    "                isbreak = True\n",
    "                break\n",
    "        if isbreak == False:\n",
    "            for i, item in enumerate(T1):\n",
    "                item[1] -= 1\n",
    "\n",
    "    return bubble_Sort(T1, T2, x)\n",
    "\n",
    "def report(T1, T2):\n",
    "    result = [[t2_item[0], item[1]] for item, t2_item in zip(T1, T2) if item and t2_item]    \n",
    "    print(result)\n",
    "    return result\n",
    "\n",
    "def bubble_Sort(T1, T2, x): # Can improve speed using qksort\n",
    "    \n",
    "    for i, itemi in enumerate(T1):\n",
    "        for j, itemj in enumerate(T1[:-i-1]):\n",
    "            if itemi and itemj:\n",
    "                if T1[j] and T1[j+1] and T1[j][1] < T1[j+1][1]:\n",
    "                    T1[j], T1[j+1] = T1[j+1], T1[j]\n",
    "                    if j + 1 < len(T2):\n",
    "                        T2[j], T2[j+1] = T2[j+1], T2[j]\n",
    "                    elif j < len(T2):\n",
    "                        T2[j] = x\n",
    "    return T1,T2"
   ]
  },
  {
   "cell_type": "code",
   "execution_count": 4,
   "id": "d84bbf2b",
   "metadata": {},
   "outputs": [
    {
     "name": "stdout",
     "output_type": "stream",
     "text": [
      "L:  723292 H_size:  20926052690560 T1_size:  143 T2_size:  13 P:  0.542469\n"
     ]
    }
   ],
   "source": [
    "cwd = os.getcwd()\n",
    "file_path = os.path.join(cwd, 'V6.csv')           # Change stream here\n",
    "\n",
    "with open(file_path, 'r') as file:\n",
    "    row_count = sum(1 for _ in file)\n",
    "\n",
    "m = row_count-1\n",
    "n = 2**128\n",
    "epsilon = 0.007\n",
    "phi = 0.08\n",
    "delta = 0.1\n",
    "r_num = 0                                         # Set which colunm to read from\n",
    "\n",
    "l, h, T1, T2, p = init(m, n, epsilon, phi, delta)\n",
    "\n",
    "if epsilon >= phi:\n",
    "    print(\"Warning: Epsilon Larger than Phi\")\n",
    "if p >= 1:\n",
    "    print(\"Warning: p Larger than 1\")"
   ]
  },
  {
   "cell_type": "code",
   "execution_count": 5,
   "id": "6fe0be07",
   "metadata": {},
   "outputs": [
    {
     "name": "stdout",
     "output_type": "stream",
     "text": [
      "8000000\n"
     ]
    }
   ],
   "source": [
    "print(m)"
   ]
  },
  {
   "cell_type": "code",
   "execution_count": 6,
   "id": "687c7312",
   "metadata": {},
   "outputs": [
    {
     "name": "stdout",
     "output_type": "stream",
     "text": [
      "Memory usage: pum 976 bytes\n",
      "Memory usage: pum 1216 bytes\n",
      "Memory usage: pum 176 bytes\n"
     ]
    }
   ],
   "source": [
    "memory_h = asizeof.asizeof(h)\n",
    "print(f\"Memory usage: pum {memory_h} bytes\")\n",
    "\n",
    "memory_t1 = asizeof.asizeof(T1)\n",
    "print(f\"Memory usage: pum {memory_t1} bytes\")\n",
    "\n",
    "memory_t2 = asizeof.asizeof(T2)\n",
    "print(f\"Memory usage: pum {memory_t2} bytes\")"
   ]
  },
  {
   "cell_type": "code",
   "execution_count": 7,
   "id": "b40f80fa",
   "metadata": {},
   "outputs": [
    {
     "name": "stdout",
     "output_type": "stream",
     "text": [
      "IPv6_Address\n",
      "Elapsed time:  4284.856762170792  seconds\n"
     ]
    }
   ],
   "source": [
    "start_time = time.time()\n",
    "with open(file_path, 'r') as file:\n",
    "    counter = 0\n",
    "    inserted = 0\n",
    "    reader = csv.reader(file)\n",
    "    for row in reader:\n",
    "        ip_address_str = row[r_num]                    # Change column here\n",
    "        if counter == 0:\n",
    "            print(ip_address_str)\n",
    "        if counter > 0:\n",
    "            \n",
    "            integer_ip_address = int(ipaddress.IPv6Address(ip_address_str))\n",
    "            inserted += insert(integer_ip_address, m, l, h, T1, T2, phi, p)\n",
    "            #print(\"IP: \", ip_address)\n",
    "            #print(\"Binary: \", binary_ip_address)\n",
    "            #print(\"Integer: \", int.from_bytes(binary_ip_address, byteorder='big'))\n",
    "            #print(h.hash(integer_ip_address))\n",
    "            \n",
    "        #if counter == 10:\n",
    "        #    break\n",
    "        counter += 1\n",
    "\n",
    "end_time = time.time()\n",
    "elapsed_time = end_time - start_time\n",
    "print(\"Elapsed time: \", elapsed_time, \" seconds\")"
   ]
  },
  {
   "cell_type": "code",
   "execution_count": 10,
   "id": "69f6f875",
   "metadata": {},
   "outputs": [
    {
     "name": "stdout",
     "output_type": "stream",
     "text": [
      "Memory usage: h 976 bytes\n",
      "Memory usage: T1 16296 bytes\n",
      "Memory usage: T2 784 bytes\n"
     ]
    }
   ],
   "source": [
    "memory_h = asizeof.asizeof(h)\n",
    "print(f\"Memory usage: h {memory_h} bytes\")\n",
    "\n",
    "memory_t1 = asizeof.asizeof(T1)\n",
    "print(f\"Memory usage: T1 {memory_t1} bytes\")\n",
    "\n",
    "memory_t2 = asizeof.asizeof(T2)\n",
    "print(f\"Memory usage: T2 {memory_t2} bytes\")"
   ]
  },
  {
   "cell_type": "code",
   "execution_count": 12,
   "id": "868d13cc",
   "metadata": {},
   "outputs": [
    {
     "name": "stdout",
     "output_type": "stream",
     "text": [
      "[[13453536664911, 1072887], [13999430319909, 638624], [18927762829121, 378539], [15123246910217, 291404], [10602779082133, 204710], [4653462848078, 1], [14168047160913, 1], [6379151370490, 1], [15186728241682, 1], [9719184869947, 1], [1269180790769, 1], [15773027165501, 1], [10120439798235, 1], [16562804181550, 1], [10977160330325, 1], [18546580843196, 1], [9502242679263, 1], [4708376998940, 1], [7721976153759, 1], [14970744800386, 1], [13361817042786, 1], [16332136501017, 1], [1630468829210, 1], [20704077792831, 1], [3915996426701, 1], [12134391507013, 1], [701410618755, 1], [7860082604581, 1], [491734801341, 1], [5010241477156, 1], [9078531408565, 1], [2110845413474, 1], [13039948980708, 1], [20769174739142, 1], [1424521495357, 1], [9613927053915, 1], [20316735024967, 1], [11744250613303, 1], [1420865394292, 1], [11548751060709, 1], [10067636710726, 1], [16994436821595, 1], [2572549180352, 1], [6023615326622, 1], [12887558523643, 1], [15677291604832, 1], [7289727443087, 1], [10991977208040, 1], [6216038788717, 1], [16140769494607, 1], [17514275043594, 1], [10432786905002, 1], [19495601958502, 1], [17209752312064, 1], [17032835351204, 1], [916746331753, 1], [15035861832102, 1], [14988165006909, 1], [5712989749441, 1], [6378888799528, 1], [15657190493082, 1], [10313013744509, 1], [19156706063452, 1], [469478488323, 1], [3744994120353, 1], [19516496816330, 1], [16174613158565, 1], [4926695245759, 1], [14912176858772, 1], [10309127022625, 1], [10893480064292, 1], [5057985607143, 1], [13404194938739, 1], [3645778688135, 1], [20060778356089, 1], [20523908390986, 1], [10236735267620, 1], [7691672782723, 1], [19763345757736, 1], [7040182509808, 1], [10254144553581, 1], [1234794744791, 1], [18667830694730, 1], [16765676057716, 1], [957687983323, 1], [8447441270429, 1], [771574876401, 1], [5611110429655, 1], [2420470770063, 1], [19672228454039, 1], [8618395468364, 1], [1735636686036, 1], [6852476526962, 1], [1703544344507, 1], [1426404207489, 1], [9237258645251, 1], [17892755581580, 1], [14086084972573, 1], [11874973537804, 1], [13004673671030, 1], [1387075852201, 1], [477303344088, 1], [10480251919994, 1], [20262137846398, 1], [5923196726330, 1], [12676310205856, 1], [1292513262974, 1], [8174310313627, 1], [14896275810922, 1], [1460899235820, 1], [4543164372096, 1], [16247022777596, 1], [1296261614847, 1], [4522180155727, 1], [4862042097077, 1], [4605479026868, 1], [8924233034297, 1], [3874626339402, 1], [116996511818, 1], [4682971072626, 1], [10641907419502, 1], [4870206719005, 1], [18971174270812, 1], [6324192401534, 1], [15323158351610, 1], [14221602417798, 1], [317006417534, 1], [20418802567645, 1], [12889506177570, 1], [3668640269414, 1], [8895350023908, 1], [3480997038427, 1], [2419015042736, 1], [7776044436583, 1], [225625122940, 1], [10467321736648, 1], [4036404978016, 1], [15160641389449, 1], [1712591445997, 1], [10787238416598, 1], [9178127242582, 1], [10590712997473, 1], [6581158191375, 0]]\n"
     ]
    }
   ],
   "source": [
    "print(T1)"
   ]
  },
  {
   "cell_type": "code",
   "execution_count": 13,
   "id": "daa016f8",
   "metadata": {},
   "outputs": [
    {
     "name": "stdout",
     "output_type": "stream",
     "text": [
      "[130899661903606533101852867240432767587, 110384156250175643175325737331030627956, 323793698876646609969570568750541558985, 75260133591338382011887897734966276291, 221941218907266329723269283006097611997, 46187186985849077124578569593943596837, 318648543685397671023067847623684177189, 200205756516636762614513633608205208778, 163728283234096744486017519831949203367, 39647661626287387087126745519830920236, 288146440203187210421451095566896202419, 196251790839559627631152828667005145482, 333511469534776090935640508623091892155]\n"
     ]
    }
   ],
   "source": [
    "print(T2)"
   ]
  },
  {
   "cell_type": "code",
   "execution_count": 11,
   "id": "216037c7",
   "metadata": {},
   "outputs": [],
   "source": [
    "#for i, item in enumerate(T2):\n",
    "#    if item is not None:\n",
    "#        print(str(ipaddress.IPv6Address(item)))\n",
    "#        print(T1[i][1])"
   ]
  },
  {
   "cell_type": "code",
   "execution_count": 11,
   "id": "4176c979",
   "metadata": {},
   "outputs": [
    {
     "name": "stdout",
     "output_type": "stream",
     "text": [
      "627a:5b9c:84b9:7904:55b6:1984:ce24:1263\n",
      "0.24722311321015578\n",
      "530b:3716:bec1:682a:ca74:d1b8:aa66:1674\n",
      "0.14715679605654886\n",
      "f398:65e6:693b:21bb:afc2:56e7:4a1b:d4c9\n",
      "0.08722595208205446\n"
     ]
    }
   ],
   "source": [
    "for i, item in enumerate(T2):\n",
    "    if item is not None and T1[i][1]>= (phi-epsilon)*(6*l):\n",
    "        temp_freq = T1[i][1]/(6*l)\n",
    "        #print(temp_freq)\n",
    "        if temp_freq > phi-epsilon:\n",
    "            print(str(ipaddress.IPv6Address(item)))\n",
    "            print(temp_freq)"
   ]
  },
  {
   "cell_type": "code",
   "execution_count": 11,
   "id": "08470f88",
   "metadata": {},
   "outputs": [
    {
     "name": "stdout",
     "output_type": "stream",
     "text": [
      "106323.9\n"
     ]
    }
   ],
   "source": [
    "print((phi-epsilon)*(6*l))"
   ]
  },
  {
   "cell_type": "code",
   "execution_count": null,
   "id": "6b04d2dd",
   "metadata": {},
   "outputs": [],
   "source": []
  }
 ],
 "metadata": {
  "kernelspec": {
   "display_name": "Python 3 (ipykernel)",
   "language": "python",
   "name": "python3"
  },
  "language_info": {
   "codemirror_mode": {
    "name": "ipython",
    "version": 3
   },
   "file_extension": ".py",
   "mimetype": "text/x-python",
   "name": "python",
   "nbconvert_exporter": "python",
   "pygments_lexer": "ipython3",
   "version": "3.11.2"
  }
 },
 "nbformat": 4,
 "nbformat_minor": 5
}

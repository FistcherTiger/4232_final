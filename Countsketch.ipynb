{
 "cells": [
  {
   "cell_type": "code",
   "execution_count": 1,
   "id": "fe137c64",
   "metadata": {},
   "outputs": [],
   "source": [
    "import random\n",
    "import bisect\n",
    "import math\n",
    "import csv\n",
    "import os\n",
    "import time\n",
    "import ipaddress\n",
    "import sympy\n",
    "\n",
    "from pympler import asizeof\n",
    "\n",
    "import hashlib\n",
    "import numpy as np\n",
    "import random\n"
   ]
  },
  {
   "cell_type": "code",
   "execution_count": 2,
   "id": "c985ed03",
   "metadata": {},
   "outputs": [],
   "source": [
    "class UniversalHash:\n",
    "    def __init__(self, n, m, seed = 114514):\n",
    "        # random.seed(seed) For getting deterministic output for analyzing\n",
    "        self.p = sympy.nextprime(n)\n",
    "        self.a = random.randint(1, self.p-1)\n",
    "        self.b = random.randint(0, self.p-1)\n",
    "        self.m = m\n",
    "    def hash(self, x):\n",
    "        return (pow(self.a, x, self.p) + self.b) % self.p % self.m"
   ]
  },
  {
   "cell_type": "code",
   "execution_count": 3,
   "id": "dcbbff37",
   "metadata": {},
   "outputs": [],
   "source": [
    "epsilon = 0.05\n",
    "r_num = 0\n",
    "\n",
    "#h_size = 5\n",
    "h_size = math.ceil(1/(epsilon*epsilon))\n",
    "\n",
    "B = [0 for _ in range(h_size)]\n",
    "B_list = [list(B) for _ in range(32)]\n",
    "h_list = [[UniversalHash(2**32, h_size), UniversalHash(2**32, 1)] for _ in range(32)]\n"
   ]
  },
  {
   "cell_type": "code",
   "execution_count": 4,
   "id": "ec226b1d",
   "metadata": {},
   "outputs": [
    {
     "name": "stdout",
     "output_type": "stream",
     "text": [
      "IP.src\n",
      "Elapsed time:  126.49626350402832  seconds\n"
     ]
    }
   ],
   "source": [
    "cwd = os.getcwd()\n",
    "file_path = os.path.join(cwd, 'CoAPDDoS.csv')\n",
    "\n",
    "start_time = time.time()\n",
    "\n",
    "with open(file_path, 'r') as file:\n",
    "    \n",
    "    counter = 0\n",
    "    reader = csv.reader(file)\n",
    "    \n",
    "    for row in reader:\n",
    "        ip_address_str = row[r_num]                    # Change column here\n",
    "        if counter == 0:\n",
    "            print(ip_address_str)\n",
    "        if counter > 0:\n",
    "            \n",
    "            integer_ip_address = int(ipaddress.IPv4Address(ip_address_str))\n",
    "            \n",
    "            for i, itemi in enumerate(B_list):\n",
    "                itemi[h_list[i][0].hash(integer_ip_address)] += (h_list[i][1].hash(integer_ip_address)-0.5)*2\n",
    "            \n",
    "        #if counter == 10:\n",
    "        #    break\n",
    "        counter += 1\n",
    "\n",
    "end_time = time.time()\n",
    "elapsed_time = end_time - start_time\n",
    "print(\"Elapsed time: \", elapsed_time, \" seconds\")"
   ]
  },
  {
   "cell_type": "code",
   "execution_count": 6,
   "id": "0c45e272",
   "metadata": {},
   "outputs": [
    {
     "name": "stdout",
     "output_type": "stream",
     "text": [
      "138029.0\n"
     ]
    }
   ],
   "source": [
    "integer_query = int(ipaddress.IPv4Address('192.168.1.12'))\n",
    "\n",
    "B_extract = [0 for _ in range(32)]\n",
    "\n",
    "for i, itemi in enumerate(B_list):\n",
    "    B_extract[i] = itemi[h_list[i][0].hash(integer_query)]\n",
    "    \n",
    "l2count = abs(np.median(B_extract))\n",
    "print(l2count)"
   ]
  },
  {
   "cell_type": "code",
   "execution_count": 7,
   "id": "511703ff",
   "metadata": {},
   "outputs": [
    {
     "name": "stdout",
     "output_type": "stream",
     "text": [
      "0.1560535894682968\n"
     ]
    }
   ],
   "source": [
    "for i, itemi in enumerate(B_list):\n",
    "    estimate = 0\n",
    "    for j, itemj in enumerate(itemi):\n",
    "        estimate+= itemj**2\n",
    "    \n",
    "\n",
    "print(l2count**2/estimate)"
   ]
  },
  {
   "cell_type": "code",
   "execution_count": 8,
   "id": "fae97374",
   "metadata": {},
   "outputs": [
    {
     "name": "stdout",
     "output_type": "stream",
     "text": [
      "122086296803.0\n"
     ]
    }
   ],
   "source": [
    "print(estimate)"
   ]
  },
  {
   "cell_type": "code",
   "execution_count": 9,
   "id": "c9a81ec2",
   "metadata": {},
   "outputs": [],
   "source": [
    "integer_query = int(ipaddress.IPv4Address('192.168.1.12'))"
   ]
  },
  {
   "cell_type": "code",
   "execution_count": 10,
   "id": "108600fd",
   "metadata": {},
   "outputs": [
    {
     "name": "stdout",
     "output_type": "stream",
     "text": [
      "IP.src\n"
     ]
    }
   ],
   "source": [
    "# Brute Force\n",
    "with open(file_path, 'r') as file:\n",
    "    \n",
    "    counter = 0\n",
    "    l2ct = 0\n",
    "    reader = csv.reader(file)\n",
    "    for row in reader:\n",
    "        ip_address_str = row[r_num]                    # Change column here\n",
    "        if counter == 0:\n",
    "            print(ip_address_str)\n",
    "        if counter > 0:\n",
    "            integer_ip_address = int(ipaddress.IPv4Address(ip_address_str))\n",
    "            if integer_query == integer_ip_address:\n",
    "                l2ct += 1\n",
    "            \n",
    "        #if counter == 10:\n",
    "        #    break\n",
    "        counter += 1"
   ]
  },
  {
   "cell_type": "code",
   "execution_count": 11,
   "id": "00e710b3",
   "metadata": {},
   "outputs": [
    {
     "name": "stdout",
     "output_type": "stream",
     "text": [
      "l2: 138029\n",
      "Freq 0.1560535894682968\n"
     ]
    }
   ],
   "source": [
    "print(\"l2:\",l2ct)\n",
    "\n",
    "print(\"Freq\", l2ct**2/F2)"
   ]
  },
  {
   "cell_type": "code",
   "execution_count": null,
   "id": "188ac617",
   "metadata": {},
   "outputs": [],
   "source": []
  },
  {
   "cell_type": "code",
   "execution_count": null,
   "id": "c98cfb6f",
   "metadata": {},
   "outputs": [],
   "source": []
  },
  {
   "cell_type": "code",
   "execution_count": 5,
   "id": "24bf3a4a",
   "metadata": {},
   "outputs": [
    {
     "name": "stdout",
     "output_type": "stream",
     "text": [
      "IP.src\n",
      "Second frequency moment (F2): 122086296803\n"
     ]
    }
   ],
   "source": [
    "def compute_second_frequency_moment_from_file(file_path):\n",
    "    frequency_count = {}\n",
    "\n",
    "    with open(file_path, 'r') as file:\n",
    "        counter = 0\n",
    "        reader = csv.reader(file)\n",
    "\n",
    "        for row in reader:\n",
    "            ip_address_str = row[r_num]                    # Change column here\n",
    "            if counter == 0:\n",
    "                print(ip_address_str)\n",
    "            if counter > 0:\n",
    "\n",
    "                integer_ip_address = int(ipaddress.IPv4Address(ip_address_str))\n",
    "\n",
    "                if integer_ip_address in frequency_count:\n",
    "                    frequency_count[integer_ip_address] += 1\n",
    "                else:\n",
    "                    frequency_count[integer_ip_address] = 1\n",
    "                    \n",
    "            counter += 1\n",
    "\n",
    "    F2 = sum(count**2 for count in frequency_count.values())\n",
    "    return F2\n",
    "\n",
    "\n",
    "F2 = compute_second_frequency_moment_from_file(file_path)\n",
    "\n",
    "print(\"Second frequency moment (F2):\", F2)\n"
   ]
  }
 ],
 "metadata": {
  "kernelspec": {
   "display_name": "Python 3 (ipykernel)",
   "language": "python",
   "name": "python3"
  },
  "language_info": {
   "codemirror_mode": {
    "name": "ipython",
    "version": 3
   },
   "file_extension": ".py",
   "mimetype": "text/x-python",
   "name": "python",
   "nbconvert_exporter": "python",
   "pygments_lexer": "ipython3",
   "version": "3.11.2"
  }
 },
 "nbformat": 4,
 "nbformat_minor": 5
}

{
 "cells": [
  {
   "cell_type": "code",
   "execution_count": 1,
   "id": "22e5323a",
   "metadata": {},
   "outputs": [],
   "source": [
    "import random\n",
    "import bisect\n",
    "import math\n",
    "import csv\n",
    "import os\n",
    "import sys\n",
    "import time\n",
    "import ipaddress\n",
    "import math\n",
    "import socket\n",
    "from pympler import asizeof"
   ]
  },
  {
   "cell_type": "code",
   "execution_count": 2,
   "id": "0bb37109",
   "metadata": {},
   "outputs": [],
   "source": [
    "def init(k):\n",
    "    T = [None] * k\n",
    "    return T\n",
    "\n",
    "def misra_gries_update(x, T1):\n",
    "    isbreak = False\n",
    "    for i, item in enumerate(T1):\n",
    "        if item and item[0] == x:\n",
    "            item[1] += 1\n",
    "            break\n",
    "    else:\n",
    "        for i, item in enumerate(T1):\n",
    "            if item is None:\n",
    "                T1[i] = [x, 1]\n",
    "                isbreak = True\n",
    "                break\n",
    "            if item[1] == 0:\n",
    "                item[0] = x\n",
    "                item[1] = 1\n",
    "                isbreak = True\n",
    "                break\n",
    "        if isbreak == False:\n",
    "            for i, item in enumerate(T1):\n",
    "                item[1] -= 1\n",
    "    \n",
    "    # Sort T1 by values, descending\n",
    "    T1.sort(key=lambda x: x[1] if x is not None else 0, reverse=True)\n"
   ]
  },
  {
   "cell_type": "code",
   "execution_count": 3,
   "id": "a3adf5e9",
   "metadata": {},
   "outputs": [
    {
     "name": "stdout",
     "output_type": "stream",
     "text": [
      "Size of T: 18\n",
      "Memory usage of T 216 bytes\n",
      "IP.src\n",
      "[['192.168.1.9', 290024], ['192.168.1.12', 138029], ['192.168.1.5', 123059], ['192.168.1.2', 60846], ['192.168.1.13', 7621], ['192.168.1.10', 3775], ['192.168.1.21', 1512], ['194.0.5.123', 35], ['192.168.1.19', 21], ['192.168.1.1', 8], ['0.0.0.0', 7]]\n",
      "Elapsed time:  2.8761706352233887  seconds\n",
      "After usage of T 1712 bytes\n"
     ]
    }
   ],
   "source": [
    "# Main program start\n",
    "\n",
    "start_time = time.time()\n",
    "\n",
    "cwd = os.getcwd()\n",
    "\n",
    "epsilon = 0.01\n",
    "phi = 0.06\n",
    "\n",
    "T = init(math.ceil(1/epsilon))\n",
    "print(\"Size of T:\", len(T))\n",
    "\n",
    "memory_t = asizeof.asizeof(T)\n",
    "print(f\"Memory usage of T {memory_t} bytes\")\n",
    "\n",
    "\n",
    "# Construct the file path for IP.csv using the current working directory\n",
    "file_path = os.path.join(cwd, 'V6.csv')\n",
    "\n",
    "with open(file_path, 'r') as file:\n",
    "    counter = 0\n",
    "    reader = csv.reader(file)\n",
    "    for row in reader:\n",
    "        ip_address_str = row[0]                        # change row\n",
    "        if counter == 0:\n",
    "            print(ip_address_str)\n",
    "        if counter > 0:\n",
    "            integer_ip_address = int(ipaddress.IPv6Address(ip_address_str))\n",
    "            misra_gries_update(integer_ip_address, T)\n",
    "        #if counter == 100:\n",
    "        #    break\n",
    "        counter += 1\n",
    "    \n",
    "    T.sort(key=lambda x: x[1] if x is not None else 0, reverse=True)\n",
    "    result = []\n",
    "    for item in T:\n",
    "        if item and item[1] != 0:\n",
    "            result.append([str(ipaddress.IPv4Address(item[0])), item[1]])\n",
    "        \n",
    "    print(result)\n",
    "\n",
    "\n",
    "end_time = time.time()\n",
    "elapsed_time = end_time - start_time\n",
    "print(\"Elapsed time: \", elapsed_time, \" seconds\")\n",
    "\n",
    "memory_t = asizeof.asizeof(T)\n",
    "print(f\"After usage of T {memory_t} bytes\")"
   ]
  },
  {
   "cell_type": "code",
   "execution_count": 4,
   "id": "77fdf259",
   "metadata": {},
   "outputs": [
    {
     "name": "stdout",
     "output_type": "stream",
     "text": [
      "Top itesm\n",
      "192.168.1.9\n",
      "0.4640844371761679\n",
      "192.168.1.12\n",
      "0.22086831013636551\n",
      "192.168.1.5\n",
      "0.19691393386223913\n"
     ]
    }
   ],
   "source": [
    "print(\"Top itesm\")\n",
    "for i, item in enumerate(T):\n",
    "    if item:\n",
    "        temp_freq = T[i][1]/counter\n",
    "        if temp_freq > (phi-epsilon):\n",
    "            print(str(ipaddress.IPv4Address(item[0])))\n",
    "            print(temp_freq)"
   ]
  },
  {
   "cell_type": "code",
   "execution_count": 5,
   "id": "6f1e0b89",
   "metadata": {},
   "outputs": [],
   "source": [
    "T_check = [['192.168.1.9', 0], ['192.168.1.12', 0], ['192.168.1.5', 0]]"
   ]
  },
  {
   "cell_type": "code",
   "execution_count": 6,
   "id": "c4682085",
   "metadata": {},
   "outputs": [
    {
     "name": "stdout",
     "output_type": "stream",
     "text": [
      "IP.src\n"
     ]
    }
   ],
   "source": [
    "# Get actual count\n",
    "with open(file_path, 'r') as file:\n",
    "    counter = 0\n",
    "    reader = csv.reader(file)\n",
    "    for row in reader:\n",
    "        ip_address_str = row[0]           # change row\n",
    "        if counter == 0:\n",
    "            print(ip_address_str)\n",
    "        if counter > 0:\n",
    "            for i, item in enumerate(T_check):\n",
    "                if item and item[0] == ip_address_str:\n",
    "                    item[1] += 1\n",
    "                    break\n",
    "        counter += 1"
   ]
  },
  {
   "cell_type": "code",
   "execution_count": 7,
   "id": "5ce00f1a",
   "metadata": {},
   "outputs": [
    {
     "name": "stdout",
     "output_type": "stream",
     "text": [
      "[['192.168.1.9', 290024], ['192.168.1.12', 138029], ['192.168.1.5', 123059]]\n"
     ]
    }
   ],
   "source": [
    "print(T_check)"
   ]
  },
  {
   "cell_type": "code",
   "execution_count": 8,
   "id": "d8feccc2",
   "metadata": {},
   "outputs": [
    {
     "name": "stdout",
     "output_type": "stream",
     "text": [
      "192.168.1.9 0.4640844371761679\n",
      "192.168.1.12 0.22086831013636551\n",
      "192.168.1.5 0.19691393386223913\n"
     ]
    }
   ],
   "source": [
    "for i, item in enumerate(T_check):\n",
    "    print(item[0],item[1]/counter)"
   ]
  },
  {
   "cell_type": "code",
   "execution_count": null,
   "id": "ba4ff415",
   "metadata": {},
   "outputs": [],
   "source": []
  }
 ],
 "metadata": {
  "kernelspec": {
   "display_name": "Python 3 (ipykernel)",
   "language": "python",
   "name": "python3"
  },
  "language_info": {
   "codemirror_mode": {
    "name": "ipython",
    "version": 3
   },
   "file_extension": ".py",
   "mimetype": "text/x-python",
   "name": "python",
   "nbconvert_exporter": "python",
   "pygments_lexer": "ipython3",
   "version": "3.11.2"
  }
 },
 "nbformat": 4,
 "nbformat_minor": 5
}
